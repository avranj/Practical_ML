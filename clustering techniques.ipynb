{
 "cells": [
  {
   "cell_type": "markdown",
   "id": "1a94c5c2",
   "metadata": {},
   "source": [
    "Practical Implementation of Clustering Techniques"
   ]
  },
  {
   "cell_type": "code",
   "execution_count": 1,
   "id": "95b71435",
   "metadata": {},
   "outputs": [],
   "source": [
    "import pandas as pd\n",
    "import numpy as np\n",
    "import matplotlib.pyplot as plt"
   ]
  },
  {
   "cell_type": "code",
   "execution_count": 2,
   "id": "f4f5328a",
   "metadata": {},
   "outputs": [],
   "source": [
    "df=pd.read_csv(\"https://raw.githubusercontent.com/campusx-official/100-days-of-machine-learning/main/kmeans/student_clustering.csv\")"
   ]
  },
  {
   "cell_type": "code",
   "execution_count": 3,
   "id": "a47e6d6b",
   "metadata": {},
   "outputs": [
    {
     "data": {
      "text/html": [
       "<div>\n",
       "<style scoped>\n",
       "    .dataframe tbody tr th:only-of-type {\n",
       "        vertical-align: middle;\n",
       "    }\n",
       "\n",
       "    .dataframe tbody tr th {\n",
       "        vertical-align: top;\n",
       "    }\n",
       "\n",
       "    .dataframe thead th {\n",
       "        text-align: right;\n",
       "    }\n",
       "</style>\n",
       "<table border=\"1\" class=\"dataframe\">\n",
       "  <thead>\n",
       "    <tr style=\"text-align: right;\">\n",
       "      <th></th>\n",
       "      <th>cgpa</th>\n",
       "      <th>iq</th>\n",
       "    </tr>\n",
       "  </thead>\n",
       "  <tbody>\n",
       "    <tr>\n",
       "      <th>0</th>\n",
       "      <td>5.13</td>\n",
       "      <td>88</td>\n",
       "    </tr>\n",
       "    <tr>\n",
       "      <th>1</th>\n",
       "      <td>5.90</td>\n",
       "      <td>113</td>\n",
       "    </tr>\n",
       "    <tr>\n",
       "      <th>2</th>\n",
       "      <td>8.36</td>\n",
       "      <td>93</td>\n",
       "    </tr>\n",
       "    <tr>\n",
       "      <th>3</th>\n",
       "      <td>8.27</td>\n",
       "      <td>97</td>\n",
       "    </tr>\n",
       "    <tr>\n",
       "      <th>4</th>\n",
       "      <td>5.45</td>\n",
       "      <td>110</td>\n",
       "    </tr>\n",
       "  </tbody>\n",
       "</table>\n",
       "</div>"
      ],
      "text/plain": [
       "   cgpa   iq\n",
       "0  5.13   88\n",
       "1  5.90  113\n",
       "2  8.36   93\n",
       "3  8.27   97\n",
       "4  5.45  110"
      ]
     },
     "execution_count": 3,
     "metadata": {},
     "output_type": "execute_result"
    }
   ],
   "source": [
    "df.head(5)"
   ]
  },
  {
   "cell_type": "code",
   "execution_count": 4,
   "id": "87f7dc5b",
   "metadata": {},
   "outputs": [
    {
     "data": {
      "text/plain": [
       "<matplotlib.collections.PathCollection at 0x2267db80748>"
      ]
     },
     "execution_count": 4,
     "metadata": {},
     "output_type": "execute_result"
    },
    {
     "data": {
      "image/png": "[encoded data removed]",
      "text/plain": [
       "<Figure size 432x288 with 1 Axes>"
      ]
     },
     "metadata": {
      "needs_background": "light"
     },
     "output_type": "display_data"
    }
   ],
   "source": [
    "plt.scatter(df['cgpa'],df['iq'])"
   ]
  },
  {
   "cell_type": "code",
   "execution_count": 5,
   "id": "cd0cc023",
   "metadata": {},
   "outputs": [],
   "source": [
    "from sklearn.cluster import KMeans"
   ]
  },
  {
   "cell_type": "code",
   "execution_count": 6,
   "id": "03768636",
   "metadata": {},
   "outputs": [],
   "source": [
    "wcss=[]\n",
    "for i in range(1,11):\n",
    "    km=KMeans(n_clusters=i)\n",
    "    km.fit_predict(df)\n",
    "    wcss.append(km.inertia_)\n"
   ]
  },
  {
   "cell_type": "code",
   "execution_count": 7,
   "id": "9c03607b",
   "metadata": {},
   "outputs": [
    {
     "data": {
      "text/plain": [
       "[29957.898287999997,\n",
       " 4184.14127,\n",
       " 2362.7133490000006,\n",
       " 681.96966,\n",
       " 514.1616803171115,\n",
       " 388.8524026875981,\n",
       " 302.653499358208,\n",
       " 233.54082485509014,\n",
       " 202.06818704953463,\n",
       " 180.0547752811831]"
      ]
     },
     "execution_count": 7,
     "metadata": {},
     "output_type": "execute_result"
    }
   ],
   "source": [
    "wcss"
   ]
  },
  {
   "cell_type": "code",
   "execution_count": 8,
   "id": "691fa9b2",
   "metadata": {},
   "outputs": [
    {
     "data": {
      "text/plain": [
       "[<matplotlib.lines.Line2D at 0x2260e447808>]"
      ]
     },
     "execution_count": 8,
     "metadata": {},
     "output_type": "execute_result"
    },
    {
     "data": {
      "image/png": "[encoded data removed]",
      "text/plain": [
       "<Figure size 432x288 with 1 Axes>"
      ]
     },
     "metadata": {
      "needs_background": "light"
     },
     "output_type": "display_data"
    }
   ],
   "source": [
    "plt.plot(range(1,11),wcss)"
   ]
  },
  {
   "cell_type": "markdown",
   "id": "02243b83",
   "metadata": {},
   "source": [
    "According to elbow it is showing 4 will be better"
   ]
  },
  {
   "cell_type": "code",
   "execution_count": 9,
   "id": "4ed377fe",
   "metadata": {},
   "outputs": [
    {
     "data": {
      "text/plain": [
       "array([[  5.13,  88.  ],\n",
       "       [  5.9 , 113.  ],\n",
       "       [  8.36,  93.  ],\n",
       "       [  8.27,  97.  ],\n",
       "       [  5.45, 110.  ],\n",
       "       [  5.88, 109.  ],\n",
       "       [  8.41,  98.  ],\n",
       "       [  8.8 , 115.  ],\n",
       "       [  5.79, 110.  ],\n",
       "       [  8.09,  94.  ],\n",
       "       [  4.6 ,  86.  ],\n",
       "       [  6.1 , 110.  ],\n",
       "       [  8.16,  97.  ],\n",
       "       [  5.  ,  88.  ],\n",
       "       [  5.71, 108.  ],\n",
       "       [  8.31,  95.  ],\n",
       "       [  5.5 , 111.  ],\n",
       "       [  7.87,  91.  ],\n",
       "       [  6.05, 111.  ],\n",
       "       [  5.84, 113.  ],\n",
       "       [  7.47,  98.  ],\n",
       "       [  4.86,  86.  ],\n",
       "       [  7.78,  92.  ],\n",
       "       [  4.78,  87.  ],\n",
       "       [  4.96,  88.  ],\n",
       "       [  7.93,  98.  ],\n",
       "       [  4.86,  87.  ],\n",
       "       [  9.18, 119.  ],\n",
       "       [  8.04,  94.  ],\n",
       "       [  5.43, 106.  ],\n",
       "       [  8.86, 117.  ],\n",
       "       [  6.01, 112.  ],\n",
       "       [  8.83, 118.  ],\n",
       "       [  5.32, 106.  ],\n",
       "       [  7.77,  96.  ],\n",
       "       [  8.  ,  96.  ],\n",
       "       [  8.56, 118.  ],\n",
       "       [  5.91, 108.  ],\n",
       "       [  5.44,  84.  ],\n",
       "       [  5.57, 113.  ],\n",
       "       [  5.34,  85.  ],\n",
       "       [  8.43,  96.  ],\n",
       "       [  8.02,  93.  ],\n",
       "       [  5.31,  86.  ],\n",
       "       [  8.96, 116.  ],\n",
       "       [  8.78, 116.  ],\n",
       "       [  8.14,  94.  ],\n",
       "       [  6.4 , 108.  ],\n",
       "       [  8.45, 119.  ],\n",
       "       [  5.67, 109.  ],\n",
       "       [  5.14,  83.  ],\n",
       "       [  4.95,  86.  ],\n",
       "       [  8.79, 116.  ],\n",
       "       [  8.12,  96.  ],\n",
       "       [  8.81, 115.  ],\n",
       "       [  6.05, 108.  ],\n",
       "       [  5.85, 111.  ],\n",
       "       [  8.88, 115.  ],\n",
       "       [  5.87, 109.  ],\n",
       "       [  9.07, 117.  ],\n",
       "       [  6.02, 104.  ],\n",
       "       [  8.34,  96.  ],\n",
       "       [  8.65,  95.  ],\n",
       "       [  8.92, 118.  ],\n",
       "       [  5.21,  87.  ],\n",
       "       [  8.75, 113.  ],\n",
       "       [  8.53,  93.  ],\n",
       "       [  4.91,  85.  ],\n",
       "       [  5.77, 111.  ],\n",
       "       [  8.29,  95.  ],\n",
       "       [  6.06, 109.  ],\n",
       "       [  8.71, 116.  ],\n",
       "       [  7.93,  94.  ],\n",
       "       [  5.28,  83.  ],\n",
       "       [  5.55, 109.  ],\n",
       "       [  8.86, 118.  ],\n",
       "       [  5.81, 112.  ],\n",
       "       [  9.3 , 117.  ],\n",
       "       [  5.15,  88.  ],\n",
       "       [  8.72,  92.  ],\n",
       "       [  8.14,  91.  ],\n",
       "       [  9.01, 121.  ],\n",
       "       [  5.47, 111.  ],\n",
       "       [  4.9 ,  85.  ],\n",
       "       [  8.97, 116.  ],\n",
       "       [  4.89,  88.  ],\n",
       "       [  9.  , 117.  ],\n",
       "       [  5.74, 109.  ],\n",
       "       [  8.76, 117.  ],\n",
       "       [  5.8 , 108.  ],\n",
       "       [  8.78, 117.  ],\n",
       "       [  9.23, 114.  ],\n",
       "       [  8.2 ,  92.  ],\n",
       "       [  5.05,  86.  ],\n",
       "       [  8.67,  95.  ],\n",
       "       [  8.18,  94.  ],\n",
       "       [  9.03, 118.  ],\n",
       "       [  8.61,  95.  ],\n",
       "       [  4.98,  91.  ],\n",
       "       [  9.13, 118.  ],\n",
       "       [  5.88, 110.  ],\n",
       "       [  5.01,  86.  ],\n",
       "       [  4.95,  88.  ],\n",
       "       [  8.91, 119.  ],\n",
       "       [  4.96,  89.  ],\n",
       "       [  4.85,  86.  ],\n",
       "       [  7.99,  92.  ],\n",
       "       [  4.76,  90.  ],\n",
       "       [  8.98, 118.  ],\n",
       "       [  9.03, 118.  ],\n",
       "       [  8.08,  94.  ],\n",
       "       [  8.86, 117.  ],\n",
       "       [  5.91, 109.  ],\n",
       "       [  5.67, 111.  ],\n",
       "       [  8.26,  91.  ],\n",
       "       [  8.89, 118.  ],\n",
       "       [  8.25,  95.  ],\n",
       "       [  5.74, 108.  ],\n",
       "       [  8.97, 117.  ],\n",
       "       [  4.98,  87.  ],\n",
       "       [  4.78,  87.  ],\n",
       "       [  5.69, 109.  ],\n",
       "       [  8.4 ,  93.  ],\n",
       "       [  8.72, 119.  ],\n",
       "       [  7.84,  97.  ],\n",
       "       [  5.2 ,  85.  ],\n",
       "       [  8.08,  98.  ],\n",
       "       [  6.05, 109.  ],\n",
       "       [  5.05,  87.  ],\n",
       "       [  8.25,  96.  ],\n",
       "       [  8.3 ,  93.  ],\n",
       "       [  6.14, 111.  ],\n",
       "       [  5.01,  83.  ],\n",
       "       [  4.77,  86.  ],\n",
       "       [  5.74, 112.  ],\n",
       "       [  8.93, 118.  ],\n",
       "       [  5.94, 109.  ],\n",
       "       [  4.68,  87.  ],\n",
       "       [  7.9 , 100.  ],\n",
       "       [  7.97,  96.  ],\n",
       "       [  8.21,  94.  ],\n",
       "       [  4.81,  85.  ],\n",
       "       [  5.86, 111.  ],\n",
       "       [  5.03,  87.  ],\n",
       "       [  4.98,  87.  ],\n",
       "       [  8.58, 118.  ],\n",
       "       [  5.32,  88.  ],\n",
       "       [  8.94, 117.  ],\n",
       "       [  6.38, 107.  ],\n",
       "       [  4.86,  88.  ],\n",
       "       [  8.6 , 117.  ],\n",
       "       [  4.89,  85.  ],\n",
       "       [  8.77, 117.  ],\n",
       "       [  8.81, 116.  ],\n",
       "       [  4.88,  86.  ],\n",
       "       [  8.23,  95.  ],\n",
       "       [  6.61, 111.  ],\n",
       "       [  8.54, 118.  ],\n",
       "       [  6.04, 110.  ],\n",
       "       [  8.35,  93.  ],\n",
       "       [  5.01,  86.  ],\n",
       "       [  8.97, 119.  ],\n",
       "       [  6.24, 108.  ],\n",
       "       [  8.33,  92.  ],\n",
       "       [  8.91, 117.  ],\n",
       "       [  4.67,  86.  ],\n",
       "       [  6.1 , 109.  ],\n",
       "       [  5.15,  85.  ],\n",
       "       [  4.97,  88.  ],\n",
       "       [  8.68, 119.  ],\n",
       "       [  9.06, 120.  ],\n",
       "       [  5.8 , 110.  ],\n",
       "       [  8.9 , 117.  ],\n",
       "       [  4.87,  88.  ],\n",
       "       [  5.2 ,  89.  ],\n",
       "       [  8.46,  98.  ],\n",
       "       [  8.94, 115.  ],\n",
       "       [  5.87, 108.  ],\n",
       "       [  4.99,  88.  ],\n",
       "       [  8.91, 115.  ],\n",
       "       [  8.91, 117.  ],\n",
       "       [  5.97, 108.  ],\n",
       "       [  6.17, 110.  ],\n",
       "       [  6.01, 107.  ],\n",
       "       [  7.89,  96.  ],\n",
       "       [  4.79,  88.  ],\n",
       "       [  7.91,  93.  ],\n",
       "       [  8.23,  91.  ],\n",
       "       [  8.95, 116.  ],\n",
       "       [  6.33, 111.  ],\n",
       "       [  8.4 ,  93.  ],\n",
       "       [  8.44,  94.  ],\n",
       "       [  4.76,  89.  ],\n",
       "       [  4.78,  85.  ],\n",
       "       [  8.79,  96.  ],\n",
       "       [  4.68,  89.  ],\n",
       "       [  8.57, 118.  ],\n",
       "       [  5.85, 112.  ],\n",
       "       [  6.23, 108.  ],\n",
       "       [  8.82, 117.  ]])"
      ]
     },
     "execution_count": 9,
     "metadata": {},
     "output_type": "execute_result"
    }
   ],
   "source": [
    "# taking all things in numpy array it works fast\n",
    "x=df.iloc[:,:].values\n",
    "x"
   ]
  },
  {
   "cell_type": "code",
   "execution_count": 10,
   "id": "8deb094e",
   "metadata": {},
   "outputs": [
    {
     "data": {
      "text/plain": [
       "array([0, 1, 3, 3, 1, 1, 3, 2, 1, 3, 0, 1, 3, 0, 1, 3, 1, 3, 1, 1, 3, 0,\n",
       "       3, 0, 0, 3, 0, 2, 3, 1, 2, 1, 2, 1, 3, 3, 2, 1, 0, 1, 0, 3, 3, 0,\n",
       "       2, 2, 3, 1, 2, 1, 0, 0, 2, 3, 2, 1, 1, 2, 1, 2, 1, 3, 3, 2, 0, 2,\n",
       "       3, 0, 1, 3, 1, 2, 3, 0, 1, 2, 1, 2, 0, 3, 3, 2, 1, 0, 2, 0, 2, 1,\n",
       "       2, 1, 2, 2, 3, 0, 3, 3, 2, 3, 0, 2, 1, 0, 0, 2, 0, 0, 3, 0, 2, 2,\n",
       "       3, 2, 1, 1, 3, 2, 3, 1, 2, 0, 0, 1, 3, 2, 3, 0, 3, 1, 0, 3, 3, 1,\n",
       "       0, 0, 1, 2, 1, 0, 3, 3, 3, 0, 1, 0, 0, 2, 0, 2, 1, 0, 2, 0, 2, 2,\n",
       "       0, 3, 1, 2, 1, 3, 0, 2, 1, 3, 2, 0, 1, 0, 0, 2, 2, 1, 2, 0, 0, 3,\n",
       "       2, 1, 0, 2, 2, 1, 1, 1, 3, 0, 3, 3, 2, 1, 3, 3, 0, 0, 3, 0, 2, 1,\n",
       "       1, 2])"
      ]
     },
     "execution_count": 10,
     "metadata": {},
     "output_type": "execute_result"
    }
   ],
   "source": [
    "# now doing it for clusters = 4\n",
    "km=KMeans(n_clusters=4)\n",
    "y_op=km.fit_predict(x)\n",
    "y_op"
   ]
  },
  {
   "cell_type": "code",
   "execution_count": 11,
   "id": "07d3a067",
   "metadata": {},
   "outputs": [
    {
     "data": {
      "text/plain": [
       "<matplotlib.collections.PathCollection at 0x2260e4edbc8>"
      ]
     },
     "execution_count": 11,
     "metadata": {},
     "output_type": "execute_result"
    },
    {
     "data": {
      "image/png": "[encoded data removed]",
      "text/plain": [
       "<Figure size 432x288 with 1 Axes>"
      ]
     },
     "metadata": {
      "needs_background": "light"
     },
     "output_type": "display_data"
    }
   ],
   "source": [
    "# now to make graph we have to put then in x,y format so we will extract x cordinate and y cordinate\n",
    "plt.scatter(x[y_op==0,0],x[y_op==0,1],color='green')\n",
    "plt.scatter(x[y_op==1,0],x[y_op==1,1],color='blue')\n",
    "plt.scatter(x[y_op==2,0],x[y_op==2,1],color='orange')\n",
    "plt.scatter(x[y_op==3,0],x[y_op==3,1],color='grey')"
   ]
  },
  {
   "cell_type": "markdown",
   "id": "68e30eda",
   "metadata": {},
   "source": [
    "# Hierarichal Technique"
   ]
  },
  {
   "cell_type": "code",
   "execution_count": 12,
   "id": "c2e97133",
   "metadata": {},
   "outputs": [
    {
     "data": {
      "text/html": [
       "<div>\n",
       "<style scoped>\n",
       "    .dataframe tbody tr th:only-of-type {\n",
       "        vertical-align: middle;\n",
       "    }\n",
       "\n",
       "    .dataframe tbody tr th {\n",
       "        vertical-align: top;\n",
       "    }\n",
       "\n",
       "    .dataframe thead th {\n",
       "        text-align: right;\n",
       "    }\n",
       "</style>\n",
       "<table border=\"1\" class=\"dataframe\">\n",
       "  <thead>\n",
       "    <tr style=\"text-align: right;\">\n",
       "      <th></th>\n",
       "      <th>CustomerID</th>\n",
       "      <th>Genre</th>\n",
       "      <th>Age</th>\n",
       "      <th>Annual Income (k$)</th>\n",
       "      <th>Spending Score (1-100)</th>\n",
       "    </tr>\n",
       "  </thead>\n",
       "  <tbody>\n",
       "    <tr>\n",
       "      <th>0</th>\n",
       "      <td>1</td>\n",
       "      <td>Male</td>\n",
       "      <td>19</td>\n",
       "      <td>15</td>\n",
       "      <td>39</td>\n",
       "    </tr>\n",
       "    <tr>\n",
       "      <th>1</th>\n",
       "      <td>2</td>\n",
       "      <td>Male</td>\n",
       "      <td>21</td>\n",
       "      <td>15</td>\n",
       "      <td>81</td>\n",
       "    </tr>\n",
       "    <tr>\n",
       "      <th>2</th>\n",
       "      <td>3</td>\n",
       "      <td>Female</td>\n",
       "      <td>20</td>\n",
       "      <td>16</td>\n",
       "      <td>6</td>\n",
       "    </tr>\n",
       "    <tr>\n",
       "      <th>3</th>\n",
       "      <td>4</td>\n",
       "      <td>Female</td>\n",
       "      <td>23</td>\n",
       "      <td>16</td>\n",
       "      <td>77</td>\n",
       "    </tr>\n",
       "  </tbody>\n",
       "</table>\n",
       "</div>"
      ],
      "text/plain": [
       "   CustomerID   Genre  Age  Annual Income (k$)  Spending Score (1-100)\n",
       "0           1    Male   19                  15                      39\n",
       "1           2    Male   21                  15                      81\n",
       "2           3  Female   20                  16                       6\n",
       "3           4  Female   23                  16                      77"
      ]
     },
     "execution_count": 12,
     "metadata": {},
     "output_type": "execute_result"
    }
   ],
   "source": [
    "dfh=pd.read_csv(\"Mall_Customers.csv\")\n",
    "dfh.head(4)"
   ]
  },
  {
   "cell_type": "code",
   "execution_count": 13,
   "id": "a2b1cc82",
   "metadata": {},
   "outputs": [
    {
     "data": {
      "text/html": [
       "<div>\n",
       "<style scoped>\n",
       "    .dataframe tbody tr th:only-of-type {\n",
       "        vertical-align: middle;\n",
       "    }\n",
       "\n",
       "    .dataframe tbody tr th {\n",
       "        vertical-align: top;\n",
       "    }\n",
       "\n",
       "    .dataframe thead th {\n",
       "        text-align: right;\n",
       "    }\n",
       "</style>\n",
       "<table border=\"1\" class=\"dataframe\">\n",
       "  <thead>\n",
       "    <tr style=\"text-align: right;\">\n",
       "      <th></th>\n",
       "      <th>Age</th>\n",
       "      <th>Annual Income (k$)</th>\n",
       "    </tr>\n",
       "  </thead>\n",
       "  <tbody>\n",
       "    <tr>\n",
       "      <th>0</th>\n",
       "      <td>19</td>\n",
       "      <td>15</td>\n",
       "    </tr>\n",
       "    <tr>\n",
       "      <th>1</th>\n",
       "      <td>21</td>\n",
       "      <td>15</td>\n",
       "    </tr>\n",
       "    <tr>\n",
       "      <th>2</th>\n",
       "      <td>20</td>\n",
       "      <td>16</td>\n",
       "    </tr>\n",
       "    <tr>\n",
       "      <th>3</th>\n",
       "      <td>23</td>\n",
       "      <td>16</td>\n",
       "    </tr>\n",
       "    <tr>\n",
       "      <th>4</th>\n",
       "      <td>31</td>\n",
       "      <td>17</td>\n",
       "    </tr>\n",
       "    <tr>\n",
       "      <th>...</th>\n",
       "      <td>...</td>\n",
       "      <td>...</td>\n",
       "    </tr>\n",
       "    <tr>\n",
       "      <th>195</th>\n",
       "      <td>35</td>\n",
       "      <td>120</td>\n",
       "    </tr>\n",
       "    <tr>\n",
       "      <th>196</th>\n",
       "      <td>45</td>\n",
       "      <td>126</td>\n",
       "    </tr>\n",
       "    <tr>\n",
       "      <th>197</th>\n",
       "      <td>32</td>\n",
       "      <td>126</td>\n",
       "    </tr>\n",
       "    <tr>\n",
       "      <th>198</th>\n",
       "      <td>32</td>\n",
       "      <td>137</td>\n",
       "    </tr>\n",
       "    <tr>\n",
       "      <th>199</th>\n",
       "      <td>30</td>\n",
       "      <td>137</td>\n",
       "    </tr>\n",
       "  </tbody>\n",
       "</table>\n",
       "<p>200 rows × 2 columns</p>\n",
       "</div>"
      ],
      "text/plain": [
       "     Age  Annual Income (k$)\n",
       "0     19                  15\n",
       "1     21                  15\n",
       "2     20                  16\n",
       "3     23                  16\n",
       "4     31                  17\n",
       "..   ...                 ...\n",
       "195   35                 120\n",
       "196   45                 126\n",
       "197   32                 126\n",
       "198   32                 137\n",
       "199   30                 137\n",
       "\n",
       "[200 rows x 2 columns]"
      ]
     },
     "execution_count": 13,
     "metadata": {},
     "output_type": "execute_result"
    }
   ],
   "source": [
    "datasubset=dfh.loc[:,['Age',\"Annual Income (k$)\"]]\n",
    "datasubset"
   ]
  },
  {
   "cell_type": "code",
   "execution_count": 14,
   "id": "1fb04ca2",
   "metadata": {},
   "outputs": [
    {
     "data": {
      "image/png": "[encoded data removed]",
      "text/plain": [
       "<Figure size 720x432 with 1 Axes>"
      ]
     },
     "metadata": {
      "needs_background": "light"
     },
     "output_type": "display_data"
    }
   ],
   "source": [
    "plt.figure(figsize=(10,6))\n",
    "plt.scatter(datasubset['Age'],datasubset[\"Annual Income (k$)\"],color='red')\n",
    "plt.xlabel(\"Age\")\n",
    "plt.ylabel(\"Annual Income\")\n",
    "plt.show()"
   ]
  },
  {
   "cell_type": "code",
   "execution_count": 32,
   "id": "6712dccb",
   "metadata": {},
   "outputs": [
    {
     "data": {
      "image/png": "[encoded data removed]",
      "text/plain": [
       "<Figure size 720x504 with 1 Axes>"
      ]
     },
     "metadata": {
      "needs_background": "light"
     },
     "output_type": "display_data"
    }
   ],
   "source": [
    "import scipy.cluster.hierarchy as sch\n",
    "plt.figure(figsize=(10,7))\n",
    "\n",
    "dendrogram=sch.dendrogram(sch.linkage(datasubset,method='ward'))\n",
    "plt.title('Dendogram')\n",
    "plt.xlabel('Customers')\n",
    "plt.ylabel('Euclidean distance')\n",
    "plt.show()"
   ]
  },
  {
   "cell_type": "code",
   "execution_count": 33,
   "id": "0df83193",
   "metadata": {},
   "outputs": [
    {
     "data": {
      "text/plain": [
       "array([1, 1, 1, 1, 1, 1, 1, 1, 1, 1, 1, 1, 1, 1, 1, 1, 1, 1, 1, 1, 1, 1,\n",
       "       1, 1, 1, 1, 1, 1, 1, 1, 1, 1, 1, 1, 1, 1, 1, 1, 1, 1, 1, 1, 1, 1,\n",
       "       1, 1, 1, 1, 1, 1, 1, 1, 1, 1, 1, 1, 1, 1, 1, 1, 1, 1, 1, 1, 1, 1,\n",
       "       0, 1, 1, 1, 1, 0, 1, 1, 1, 0, 0, 0, 0, 0, 1, 0, 1, 0, 0, 0, 1, 0,\n",
       "       0, 0, 1, 0, 0, 0, 0, 0, 0, 0, 0, 0, 0, 0, 1, 0, 0, 0, 1, 0, 1, 1,\n",
       "       1, 0, 0, 0, 0, 0, 1, 0, 0, 0, 0, 0, 0, 0, 0, 0, 0, 0, 0, 0, 0, 0,\n",
       "       0, 0, 0, 0, 0, 0, 0, 0, 0, 0, 0, 0, 0, 0, 0, 0, 0, 0, 0, 0, 0, 0,\n",
       "       0, 0, 0, 0, 0, 0, 0, 0, 0, 0, 0, 0, 0, 0, 0, 0, 0, 0, 0, 0, 0, 0,\n",
       "       0, 0, 0, 0, 0, 0, 0, 0, 0, 0, 0, 0, 0, 0, 0, 0, 0, 0, 0, 0, 0, 0,\n",
       "       0, 0], dtype=int64)"
      ]
     },
     "execution_count": 33,
     "metadata": {},
     "output_type": "execute_result"
    }
   ],
   "source": [
    "from sklearn.cluster import AgglomerativeClustering\n",
    "cluster = AgglomerativeClustering(n_clusters=2,affinity='euclidean',linkage='ward')\n",
    "cluster.fit_predict(datasubset)"
   ]
  },
  {
   "cell_type": "code",
   "execution_count": 34,
   "id": "9551dcaa",
   "metadata": {},
   "outputs": [],
   "source": [
    "c=cluster.fit_predict(datasubset)"
   ]
  },
  {
   "cell_type": "code",
   "execution_count": 35,
   "id": "05aa309a",
   "metadata": {},
   "outputs": [],
   "source": [
    "from sklearn.metrics import silhouette_score"
   ]
  },
  {
   "cell_type": "code",
   "execution_count": 37,
   "id": "08b1fffd",
   "metadata": {},
   "outputs": [
    {
     "data": {
      "text/plain": [
       "0.4104652474372429"
      ]
     },
     "execution_count": 37,
     "metadata": {},
     "output_type": "execute_result"
    }
   ],
   "source": [
    "silhouette_score(datasubset,c)"
   ]
  },
  {
   "cell_type": "markdown",
   "id": "b1897aaa",
   "metadata": {},
   "source": [
    "so from here we can get the idea that feature scaling can actually affect your model either positively or negatively"
   ]
  },
  {
   "cell_type": "markdown",
   "id": "c1de5e34",
   "metadata": {},
   "source": [
    "# DBSCAN Clustering"
   ]
  },
  {
   "cell_type": "code",
   "execution_count": 15,
   "id": "e0d8063b",
   "metadata": {},
   "outputs": [],
   "source": [
    "from sklearn.cluster import DBSCAN\n",
    "x=np.array([[1,2],[3,4],[4,3],[8,7],[7,8],[25,80]])"
   ]
  },
  {
   "cell_type": "code",
   "execution_count": 16,
   "id": "772d8efa",
   "metadata": {},
   "outputs": [
    {
     "data": {
      "text/plain": [
       "array([[ 1,  2],\n",
       "       [ 3,  4],\n",
       "       [ 4,  3],\n",
       "       [ 8,  7],\n",
       "       [ 7,  8],\n",
       "       [25, 80]])"
      ]
     },
     "execution_count": 16,
     "metadata": {},
     "output_type": "execute_result"
    }
   ],
   "source": [
    "x"
   ]
  },
  {
   "cell_type": "code",
   "execution_count": 17,
   "id": "07b5a132",
   "metadata": {},
   "outputs": [
    {
     "data": {
      "text/plain": [
       "<matplotlib.collections.PathCollection at 0x2260e569b08>"
      ]
     },
     "execution_count": 17,
     "metadata": {},
     "output_type": "execute_result"
    },
    {
     "data": {
      "image/png": "[encoded data removed]",
      "text/plain": [
       "<Figure size 432x288 with 1 Axes>"
      ]
     },
     "metadata": {
      "needs_background": "light"
     },
     "output_type": "display_data"
    }
   ],
   "source": [
    "plt.scatter(x[:,0],x[:,1])"
   ]
  },
  {
   "cell_type": "code",
   "execution_count": 19,
   "id": "b9ce1ef8",
   "metadata": {},
   "outputs": [
    {
     "data": {
      "text/plain": [
       "DBSCAN(eps=3, min_samples=2)"
      ]
     },
     "execution_count": 19,
     "metadata": {},
     "output_type": "execute_result"
    }
   ],
   "source": [
    "clustering=DBSCAN(eps=3,min_samples=2)\n",
    "clustering.fit(x)"
   ]
  },
  {
   "cell_type": "code",
   "execution_count": 30,
   "id": "ef56cf44",
   "metadata": {},
   "outputs": [
    {
     "data": {
      "text/plain": [
       "array([ 0,  0,  0,  1,  1, -1], dtype=int64)"
      ]
     },
     "execution_count": 30,
     "metadata": {},
     "output_type": "execute_result"
    }
   ],
   "source": [
    "clustering.labels_"
   ]
  },
  {
   "cell_type": "markdown",
   "id": "e8c9f385",
   "metadata": {},
   "source": [
    "# Difference b/w Dbscan and kMeans"
   ]
  },
  {
   "cell_type": "code",
   "execution_count": 22,
   "id": "dbe6439b",
   "metadata": {},
   "outputs": [
    {
     "data": {
      "text/plain": [
       "KMeans(n_clusters=2, random_state=0)"
      ]
     },
     "execution_count": 22,
     "metadata": {},
     "output_type": "execute_result"
    }
   ],
   "source": [
    "km1=KMeans(n_clusters=2,random_state=0)\n",
    "km1.fit(x)"
   ]
  },
  {
   "cell_type": "code",
   "execution_count": 23,
   "id": "55a478af",
   "metadata": {},
   "outputs": [
    {
     "data": {
      "text/plain": [
       "array([0, 0, 0, 0, 0, 1])"
      ]
     },
     "execution_count": 23,
     "metadata": {},
     "output_type": "execute_result"
    }
   ],
   "source": [
    "km1.labels_"
   ]
  },
  {
   "cell_type": "code",
   "execution_count": 26,
   "id": "9740e587",
   "metadata": {},
   "outputs": [
    {
     "data": {
      "text/plain": [
       "array([[ 4.6,  4.8],\n",
       "       [25. , 80. ]])"
      ]
     },
     "execution_count": 26,
     "metadata": {},
     "output_type": "execute_result"
    }
   ],
   "source": [
    "km1.cluster_centers_"
   ]
  },
  {
   "cell_type": "code",
   "execution_count": 25,
   "id": "6b90d383",
   "metadata": {},
   "outputs": [
    {
     "data": {
      "text/plain": [
       "array([0, 0])"
      ]
     },
     "execution_count": 25,
     "metadata": {},
     "output_type": "execute_result"
    }
   ],
   "source": [
    "km1.predict([[0,0],[12,3]])"
   ]
  },
  {
   "cell_type": "code",
   "execution_count": 27,
   "id": "0cb9eab5",
   "metadata": {},
   "outputs": [],
   "source": [
    "# kmeans does not  work well on outliers and non-separate data \n",
    "# while Dbscan focus more on density based work."
   ]
  }
 ],
 "metadata": {
  "kernelspec": {
   "display_name": "Python 3 (ipykernel)",
   "language": "python",
   "name": "python3"
  },
  "language_info": {
   "codemirror_mode": {
    "name": "ipython",
    "version": 3
   },
   "file_extension": ".py",
   "mimetype": "text/x-python",
   "name": "python",
   "nbconvert_exporter": "python",
   "pygments_lexer": "ipython3",
   "version": "3.7.9"
  }
 },
 "nbformat": 4,
 "nbformat_minor": 5
}
